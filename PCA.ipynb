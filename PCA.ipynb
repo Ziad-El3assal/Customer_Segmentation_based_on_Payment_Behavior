{
 "cells": [
  {
   "cell_type": "code",
   "execution_count": 1,
   "metadata": {},
   "outputs": [],
   "source": [
    "import pandas as pd\n",
    "import numpy as np\n",
    "import matplotlib.pyplot as plt"
   ]
  },
  {
   "cell_type": "code",
   "execution_count": 2,
   "metadata": {},
   "outputs": [],
   "source": [
    "df = pd.read_csv('CC GENERAL.csv')\n",
    "df.drop('CUST_ID', axis=1, inplace=True)\n",
    "df['MINIMUM_PAYMENTS'] = df['MINIMUM_PAYMENTS'].fillna(df['MINIMUM_PAYMENTS'].mean())\n",
    "df = df.dropna(axis = 0, subset = ['CREDIT_LIMIT'])"
   ]
  },
  {
   "cell_type": "code",
   "execution_count": 115,
   "metadata": {},
   "outputs": [],
   "source": [
    "class PCA ():\n",
    "\n",
    "    def __init__(self,n_components = 0.95):\n",
    "        self.n_components = n_components\n",
    "        if self.n_components > 1:\n",
    "            self.type = 'var'\n",
    "        else:\n",
    "            self.type = 'ratio'\n",
    "\n",
    "    def fit(self,X):\n",
    "\n",
    "        self.mean = X.mean(axis=0)\n",
    "        self.variance = X.std(axis=0)\n",
    "        # fill\n",
    "        X = (X - self.mean)/self.variance\n",
    "        Cov= X.T.dot(X)\n",
    "        self.eigenvalues = np.linalg.eig(Cov)[0]\n",
    "        self.components =np.linalg.eig(Cov)[1]\n",
    "        if type == 'var':\n",
    "            self.components = self.components[:,0:self.n_components]\n",
    "        else:\n",
    "            self.components = self.components[:,0:np.argmax(np.cumsum(self.eigenvalues)/np.sum(self.eigenvalues)>self.n_components)]\n",
    "        X_new = X @ self.components        \n",
    "        return X_new\n",
    "\n",
    "    def transform(self,Z):\n",
    "        # fill\n",
    "        Z=(Z-self.mean)/self.variance\n",
    "        Z_new = Z.dot(self.components)\n",
    "        return Z_new\n",
    "\n",
    "    #optional \n",
    "    def plot_explained_variance(self):\n",
    "        plt.plot(np.cumsum(self.eigenvalues)/np.sum(self.eigenvalues))\n",
    "        if self.type == 'var':\n",
    "            plt.axvline(int(self.n_components), color='r', linestyle='-')\n",
    "        else:\n",
    "            plt.axhline(self.n_components, color='r', linestyle='-')\n",
    "        plt.show()"
   ]
  },
  {
   "cell_type": "code",
   "execution_count": 116,
   "metadata": {},
   "outputs": [],
   "source": [
    "pca_section = PCA(n_components=0.95)\n",
    "X_transofmed = pca_section.fit(df.values)"
   ]
  },
  {
   "cell_type": "code",
   "execution_count": 117,
   "metadata": {},
   "outputs": [
    {
     "data": {
      "image/png": "[encoded data removed]",
      "text/plain": [
       "<Figure size 640x480 with 1 Axes>"
      ]
     },
     "metadata": {},
     "output_type": "display_data"
    }
   ],
   "source": [
    "pca_section.plot_explained_variance()"
   ]
  },
  {
   "cell_type": "code",
   "execution_count": 53,
   "metadata": {},
   "outputs": [
    {
     "name": "stdout",
     "output_type": "stream",
     "text": [
      "(17, 11)\n",
      "[[ 0.10100162 -0.40397099  0.15990093  0.28367256 -0.04695824 -0.03981946\n",
      "  -0.25222072 -0.16991378  0.12991935  0.03108099 -0.1468211 ]\n",
      " [ 0.11990312 -0.13057912  0.42037918  0.14967783  0.48501686 -0.03366755\n",
      "   0.10429816  0.2593711   0.62132817 -0.08152461  0.11861695]\n",
      " [ 0.41167022 -0.04111197 -0.25777856  0.03878684 -0.03054746 -0.1769038\n",
      "   0.20301756  0.01982939  0.105048    0.05123657 -0.20094879]\n",
      " [ 0.34643121 -0.06293748 -0.39208387  0.07747549  0.15660263 -0.1845277\n",
      "   0.12135981  0.12558653  0.01789131 -0.17563518 -0.44790262]\n",
      " [ 0.33683409  0.01847871  0.1107286  -0.05065074 -0.35990966 -0.07926235\n",
      "   0.25714406 -0.18387359  0.21551933  0.44375338  0.34764977]\n",
      " [-0.02341367 -0.43922298  0.02749053 -0.25449076 -0.09761894  0.14629241\n",
      "  -0.05010915 -0.02121819 -0.05127406 -0.35912349  0.35456913]\n",
      " [ 0.32149689  0.19076437  0.37492109 -0.18851747  0.09220684  0.03851968\n",
      "  -0.15561901 -0.03406114 -0.22201249 -0.25083666 -0.1175436 ]\n",
      " [ 0.29463737  0.01787879 -0.11516064  0.02699761  0.53175065 -0.0217284\n",
      "  -0.29012399  0.103175   -0.40042621  0.1095085   0.37531967]\n",
      " [ 0.27471069  0.17858321  0.47370167 -0.21416392 -0.18054135  0.05243399\n",
      "   0.03673939 -0.15539775 -0.07500769 -0.2523941  -0.28740088]\n",
      " [-0.08918258 -0.43406536  0.10940786 -0.26408341  0.13740032 -0.06475575\n",
      "   0.14184392  0.05093864 -0.09118209  0.28597921 -0.21679752]\n",
      " [-0.04872408 -0.41970989  0.1157562  -0.32673635  0.07753598  0.05862617\n",
      "   0.19412919  0.11435906 -0.25657719  0.21837884 -0.20468744]\n",
      " [ 0.39071613  0.01933247  0.07751134 -0.01789107  0.03074606 -0.10298485\n",
      "   0.10731302 -0.09201716 -0.20328957  0.24856124  0.2113872 ]\n",
      " [ 0.21166635 -0.23871154 -0.10056345  0.13174717 -0.07414404  0.3211879\n",
      "  -0.55834554 -0.34698861  0.14446425  0.15906878 -0.15960789]\n",
      " [ 0.26622781 -0.25751364 -0.27624516 -0.11502959 -0.19463044  0.12519897\n",
      "   0.15943835  0.07709433  0.09422758 -0.4660915   0.26623461]\n",
      " [ 0.06031374 -0.16697017  0.22144607  0.40332251 -0.4297068  -0.27882973\n",
      "  -0.19652104  0.58430797 -0.25295273 -0.00608925  0.02271027]\n",
      " [ 0.1321166   0.19001643 -0.12464859 -0.4246113  -0.13815091  0.35555156\n",
      "  -0.29765335  0.56004761  0.26088459  0.24036442 -0.07101397]\n",
      " [ 0.08082738  0.00443104  0.06259594  0.4356431   0.03503754  0.7472019\n",
      "   0.39683624  0.10919565 -0.21003654  0.05293135 -0.0633973 ]]\n",
      "expected shape: (17,11)\n"
     ]
    }
   ],
   "source": [
    "print(pca_section.components.shape)\n",
    "print(pca_section.components)\n",
    "\n",
    "print(\"expected shape: (17,11)\")"
   ]
  },
  {
   "cell_type": "code",
   "execution_count": 52,
   "metadata": {},
   "outputs": [
    {
     "data": {
      "text/plain": [
       "(8949, 11)"
      ]
     },
     "execution_count": 52,
     "metadata": {},
     "output_type": "execute_result"
    }
   ],
   "source": [
    "pca_section.transform(df.values).shape"
   ]
  },
  {
   "cell_type": "code",
   "execution_count": null,
   "metadata": {},
   "outputs": [],
   "source": [
    "class Solution:\n",
    "    def frequencySort(self, s: str) -> str:\n",
    "        mp={}\n",
    "        for i in s:\n",
    "            mp[i]=mp.get(i,0)+1\n",
    "        def sqrt(x,y):\n",
    "            return mp[x]>mp[y]\n",
    "        x=sorted(s,)"
   ]
  }
 ],
 "metadata": {
  "kernelspec": {
   "display_name": "base",
   "language": "python",
   "name": "python3"
  },
  "language_info": {
   "codemirror_mode": {
    "name": "ipython",
    "version": 3
   },
   "file_extension": ".py",
   "mimetype": "text/x-python",
   "name": "python",
   "nbconvert_exporter": "python",
   "pygments_lexer": "ipython3",
   "version": "3.11.8"
  }
 },
 "nbformat": 4,
 "nbformat_minor": 2
}
